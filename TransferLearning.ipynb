{
 "cells": [
  {
   "cell_type": "code",
   "execution_count": 10,
   "metadata": {},
   "outputs": [
    {
     "name": "stderr",
     "output_type": "stream",
     "text": [
      "Using TensorFlow backend.\n"
     ]
    },
    {
     "name": "stdout",
     "output_type": "stream",
     "text": [
      "Keras 2.0.4\n"
     ]
    }
   ],
   "source": [
    "#import numpy as np#这个在某些情况下会引起bug，很奇怪\n",
    "import keras\n",
    "from keras.models import Model\n",
    "from keras.layers import Dense\n",
    "from keras.layers.pooling import GlobalAveragePooling2D\n",
    "#from keras.preprocessing import image\n",
    "from keras.preprocessing.image import ImageDataGenerator\n",
    "from keras.callbacks import TensorBoard, ModelCheckpoint, EarlyStopping\n",
    "from keras.applications.vgg16 import VGG16\n",
    "#from keras.applications.xception import Xception\n",
    "#from keras.applications.resnet50 import ResNet50\n",
    "#from keras.applications.inception_v3 import InceptionV3\n",
    "\n",
    "print(\"Keras {}\".format(keras.__version__))"
   ]
  },
  {
   "cell_type": "code",
   "execution_count": 11,
   "metadata": {},
   "outputs": [
    {
     "name": "stdout",
     "output_type": "stream",
     "text": [
      "Found 17778 images belonging to 2 classes.\n",
      "Found 8 images belonging to 2 classes.\n"
     ]
    }
   ],
   "source": [
    "IMG_WIDTH = 244\n",
    "IMG_HEIGHT = 244\n",
    "IMG_CHANNEL = 3\n",
    "BATCH_SIZE = 128\n",
    "\n",
    "# rescale=1.0/255.0这个并没有带来更好的效果，更快的收敛\n",
    "train_gen = ImageDataGenerator(data_format='channels_last').flow_from_directory(\n",
    "    './train/', target_size=(IMG_WIDTH, IMG_HEIGHT), batch_size=BATCH_SIZE,\n",
    "    class_mode='categorical', shuffle=True)\n",
    "val_gen = ImageDataGenerator(data_format='channels_last').flow_from_directory(\n",
    "    './val/', target_size=(IMG_WIDTH, IMG_HEIGHT), batch_size=BATCH_SIZE,\n",
    "    class_mode='categorical', shuffle=False)"
   ]
  },
  {
   "cell_type": "code",
   "execution_count": 12,
   "metadata": {
    "collapsed": true
   },
   "outputs": [],
   "source": [
    "model_vgg16_base = VGG16(input_shape=(IMG_WIDTH, IMG_HEIGHT, IMG_CHANNEL), weights='imagenet', include_top=False)\n",
    "output = model_vgg16_base.output\n",
    "## GlobalAveragePooling2D,通过Summary，它会在中间某几个维度平均，并且缩小数据规模；而flatten仅仅是把数据展开\n",
    "output = GlobalAveragePooling2D()(output)\n",
    "model_vgg16_pred = Dense(2, activation='softmax')(output)\n",
    "model_vgg16_model = Model(inputs=model_vgg16_base.input, outputs=model_vgg16_pred)\n",
    "\n",
    "for layer in model_vgg16_base.layers:\n",
    "    # 如果为True，不仅违背了Transfer Learning的思想，而且内存小，根本算不过来\n",
    "    layer.trainable = False\n",
    "\n",
    "#model_vgg16_model.summary()\n",
    "\n",
    "#binary_crossentropy有更好的效果，更快的收敛\n",
    "#model_vgg16_model.compile(loss='categorical_crossentropy', optimizer='nadam',  metrics=['accuracy'])\n",
    "model_vgg16_model.compile(loss='binary_crossentropy', optimizer='nadam',  metrics=['binary_accuracy'])"
   ]
  },
  {
   "cell_type": "code",
   "execution_count": null,
   "metadata": {},
   "outputs": [],
   "source": [
    "# 可以跳过这步直接加载训练好的模型\n",
    "LOG_DIR = './model/1'\n",
    "\n",
    "# 既然最后衡量标准是loss，则密切关注loss，因为accuracy很有可能很快达到100%，那么loss还可以更进一步地让算法更精确\n",
    "callbacks = [\n",
    "    TensorBoard(log_dir=LOG_DIR, write_images=True),\n",
    "#    ModelCheckpoint(LOG_DIR + \"/checkpoint-{epoch:02d}-{val_acc:.2f}.hdf5\", \n",
    "#                    monitor='val_acc', verbose=1, save_best_only=True),\n",
    "    ModelCheckpoint(LOG_DIR + \"/checkpoint-{epoch:02d}-{val_loss:.2f}.hdf5\", \n",
    "                    monitor='val_loss', verbose=1, save_best_only=True),\n",
    "#    EarlyStopping(monitor='val_acc', patience=3, verbose=1),\n",
    "    EarlyStopping(monitor='val_loss', patience=3, verbose=1)\n",
    "]\n",
    "# steps_per_epoch是一个epoch中有多少step。validation_steps没多少step来validate一下\n",
    "model_vgg16_model.fit_generator(train_gen, steps_per_epoch=128,\n",
    "                                validation_data=val_gen, validation_steps=32,\n",
    "                                callbacks=callbacks, epochs=16, verbose=1)"
   ]
  },
  {
   "cell_type": "code",
   "execution_count": 13,
   "metadata": {
    "collapsed": true
   },
   "outputs": [],
   "source": [
    "# 加载已经训练好的模型\n",
    "model_vgg16_model.load_weights('./checkpoint-01-0.00.hdf5')\n",
    "model_vgg16_model.evaluate_generator(val_gen, steps=1)"
   ]
  },
  {
   "cell_type": "code",
   "execution_count": 15,
   "metadata": {},
   "outputs": [
    {
     "name": "stdout",
     "output_type": "stream",
     "text": [
      "Found 12500 images belonging to 1 classes.\n"
     ]
    }
   ],
   "source": [
    "test_gen = ImageDataGenerator(data_format='channels_last').flow_from_directory(\n",
    "    './test/', target_size=(IMG_WIDTH, IMG_HEIGHT), batch_size=125,\n",
    "    class_mode=None, shuffle=False)\n",
    "\n",
    "# 这里的steps 和 test_gen = ImageDataGenerator 里的 batch_size=125 乘起来要等于总数。\n",
    "pred = model_vgg16_model.predict_generator(test_gen, steps=100, verbose=1)"
   ]
  },
  {
   "cell_type": "code",
   "execution_count": null,
   "metadata": {
    "collapsed": true
   },
   "outputs": [],
   "source": [
    "import re\n",
    "import pandas as pd\n",
    "\n",
    "test_ids = []\n",
    "pattern = re.compile(r'\\/(\\d+)\\.')\n",
    "\n",
    "for i, name in enumerate(test_gen.filenames):\n",
    "    test_id = pattern.findall(name)\n",
    "    test_ids.append(test_id[0])\n",
    "\n",
    "submission = pd.DataFrame({\n",
    "    \"id\": test_ids,\n",
    "    \"label\": pred[:,1] # dog's probability\n",
    "})\n",
    "submission.to_csv('prediction.csv', index=False)"
   ]
  }
 ],
 "metadata": {
  "kernelspec": {
   "display_name": "Python 3",
   "language": "python",
   "name": "python3"
  },
  "language_info": {
   "codemirror_mode": {
    "name": "ipython",
    "version": 3
   },
   "file_extension": ".py",
   "mimetype": "text/x-python",
   "name": "python",
   "nbconvert_exporter": "python",
   "pygments_lexer": "ipython3",
   "version": "3.6.1"
  }
 },
 "nbformat": 4,
 "nbformat_minor": 2
}
